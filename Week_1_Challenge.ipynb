{
 "cells": [
  {
   "cell_type": "markdown",
   "metadata": {
    "id": "q0CaFxLTeBAW"
   },
   "source": [
    "# **Week 1 Project:**\n"
   ]
  },
  {
   "cell_type": "code",
   "execution_count": null,
   "metadata": {},
   "outputs": [
    {
     "name": "stdout",
     "output_type": "stream",
     "text": [
      "Collecting pandas\n",
      "  Using cached https://files.pythonhosted.org/packages/99/f0/f99700ef327e51d291efdf4a6de29e685c4d198cbf8531541fc84d169e0e/pandas-1.3.5.tar.gz\n",
      "  Installing build dependencies ... \u001b[?25l/"
     ]
    }
   ],
   "source": [
    "!pip install pandas\n",
    "!pip install numpy"
   ]
  },
  {
   "cell_type": "code",
   "execution_count": 1,
   "metadata": {
    "id": "cTpPqLk5Hyja"
   },
   "outputs": [
    {
     "ename": "ModuleNotFoundError",
     "evalue": "No module named 'pandas'",
     "output_type": "error",
     "traceback": [
      "\u001b[0;31m---------------------------------------------------------------------------\u001b[0m",
      "\u001b[0;31mModuleNotFoundError\u001b[0m                       Traceback (most recent call last)",
      "\u001b[0;32m<ipython-input-1-baf368f80de7>\u001b[0m in \u001b[0;36m<module>\u001b[0;34m\u001b[0m\n\u001b[0;32m----> 1\u001b[0;31m \u001b[0;32mimport\u001b[0m \u001b[0mpandas\u001b[0m \u001b[0;32mas\u001b[0m \u001b[0mpd\u001b[0m\u001b[0;34m\u001b[0m\u001b[0;34m\u001b[0m\u001b[0m\n\u001b[0m\u001b[1;32m      2\u001b[0m \u001b[0;32mimport\u001b[0m \u001b[0mnumpy\u001b[0m \u001b[0;32mas\u001b[0m \u001b[0mnp\u001b[0m\u001b[0;34m\u001b[0m\u001b[0;34m\u001b[0m\u001b[0m\n",
      "\u001b[0;31mModuleNotFoundError\u001b[0m: No module named 'pandas'"
     ]
    }
   ],
   "source": [
    "import pandas as pd\n",
    "import numpy as np"
   ]
  },
  {
   "cell_type": "code",
   "execution_count": null,
   "metadata": {
    "id": "f3Iad4xNIBoY"
   },
   "outputs": [],
   "source": [
    "data = pd.read_csv('/content/drive/MyDrive/LUX TECH BOOTCAMP/archive/1. Weather Data.csv')"
   ]
  },
  {
   "cell_type": "code",
   "execution_count": null,
   "metadata": {
    "colab": {
     "base_uri": "https://localhost:8080/",
     "height": 206
    },
    "id": "GhOufXz7IZqw",
    "outputId": "54e8906b-8f81-4285-e790-31f020cc3c57"
   },
   "outputs": [],
   "source": [
    "data.head(5)"
   ]
  },
  {
   "cell_type": "code",
   "execution_count": null,
   "metadata": {
    "colab": {
     "base_uri": "https://localhost:8080/"
    },
    "id": "KqiaWlPIIrb0",
    "outputId": "0073cad0-347f-44bf-d6ef-d757d6bfc93b"
   },
   "outputs": [],
   "source": [
    "data.shape"
   ]
  },
  {
   "cell_type": "markdown",
   "metadata": {
    "id": "H8AWUrEdd22a"
   },
   "source": [
    "# **Part 1: From the dataset above, write Python code to answer the following questions:**\n"
   ]
  },
  {
   "cell_type": "markdown",
   "metadata": {
    "id": "UuPk7cbKN_XZ"
   },
   "source": [
    "## 1. Find all records where the weather was exactly clear."
   ]
  },
  {
   "cell_type": "code",
   "execution_count": null,
   "metadata": {
    "id": "ZDb9IwX4O0sr"
   },
   "outputs": [],
   "source": [
    "clear_weather = data[data['Weather'] == 'Clear']"
   ]
  },
  {
   "cell_type": "code",
   "execution_count": null,
   "metadata": {
    "colab": {
     "base_uri": "https://localhost:8080/",
     "height": 424
    },
    "id": "XChhqyrkeTDg",
    "outputId": "338ff978-343d-4f02-cc59-f566ac73d2bf"
   },
   "outputs": [],
   "source": [
    "clear_weather"
   ]
  },
  {
   "cell_type": "markdown",
   "metadata": {
    "id": "tyTFmCheOgJQ"
   },
   "source": [
    "## 2. Find the number of times the wind speed was exactly 4 km/hr."
   ]
  },
  {
   "cell_type": "code",
   "execution_count": null,
   "metadata": {
    "id": "b3f6xv6BeuJE"
   },
   "outputs": [],
   "source": [
    "count_wind_speed = data[data['Wind Speed_km/h'] == 4].shape[0]"
   ]
  },
  {
   "cell_type": "code",
   "execution_count": null,
   "metadata": {
    "colab": {
     "base_uri": "https://localhost:8080/"
    },
    "id": "71N2pzC_e_Hh",
    "outputId": "63d1c681-8320-45c4-f8fa-454c1786860e"
   },
   "outputs": [],
   "source": [
    "count_wind_speed"
   ]
  },
  {
   "cell_type": "markdown",
   "metadata": {
    "id": "_U8bRH-zOrzw"
   },
   "source": [
    "## 3. Check if there are any NULL values present in the dataset.\n"
   ]
  },
  {
   "cell_type": "code",
   "execution_count": null,
   "metadata": {
    "colab": {
     "base_uri": "https://localhost:8080/",
     "height": 335
    },
    "id": "9xp_2kj5OxGw",
    "outputId": "d71440e8-fb52-4d62-be46-2241ec26eec7"
   },
   "outputs": [],
   "source": [
    "null_values = data.isnull().sum()\n",
    "null_values"
   ]
  },
  {
   "cell_type": "markdown",
   "metadata": {
    "id": "NvToT1SlcNW0"
   },
   "source": [
    "## 4. Rename the column \"Weather\" to \"Weather_Condition.\"\n"
   ]
  },
  {
   "cell_type": "code",
   "execution_count": null,
   "metadata": {
    "id": "-Nj1KFTGiOWz"
   },
   "outputs": [],
   "source": [
    "renamed_column = data.rename(columns={'Weather': 'Weather_Condition'}, inplace=True)"
   ]
  },
  {
   "cell_type": "code",
   "execution_count": null,
   "metadata": {
    "colab": {
     "base_uri": "https://localhost:8080/",
     "height": 206
    },
    "id": "kyDlZMsCilRj",
    "outputId": "acec70d1-a2f7-43ce-e413-5cc6b89c91a6"
   },
   "outputs": [],
   "source": [
    "data.head(5)"
   ]
  },
  {
   "cell_type": "markdown",
   "metadata": {
    "id": "GS1lmuODcNug"
   },
   "source": [
    "## 5. What is the mean visibility of the dataset?\n"
   ]
  },
  {
   "cell_type": "code",
   "execution_count": null,
   "metadata": {
    "colab": {
     "base_uri": "https://localhost:8080/"
    },
    "id": "m8aQAJPkjCGC",
    "outputId": "2b6d011d-0c5b-48f3-82c2-7044d6a3921f"
   },
   "outputs": [],
   "source": [
    "mean_visibility = data['Visibility_km'].mean()\n",
    "mean_visibility"
   ]
  },
  {
   "cell_type": "markdown",
   "metadata": {
    "id": "APG5nvU2cOAU"
   },
   "source": [
    "## 6. Find the number of records where the wind speed is greater than 24 km/hr and visibility is equal to 25 km.\n",
    "\n"
   ]
  },
  {
   "cell_type": "code",
   "execution_count": null,
   "metadata": {
    "colab": {
     "base_uri": "https://localhost:8080/"
    },
    "id": "w4bR-4ryjT8H",
    "outputId": "1176556c-b388-4bdd-80a4-9f44221c2af3"
   },
   "outputs": [],
   "source": [
    "records = data[(data['Wind Speed_km/h'] > 24) & (data['Visibility_km'] == 25)].shape[0]\n",
    "records"
   ]
  },
  {
   "cell_type": "markdown",
   "metadata": {
    "id": "biYj9-JMcOPZ"
   },
   "source": [
    "## 7. What is the mean value of each column for each weather condition?\n"
   ]
  },
  {
   "cell_type": "code",
   "execution_count": null,
   "metadata": {
    "colab": {
     "base_uri": "https://localhost:8080/",
     "height": 1000
    },
    "id": "aLU-DV_CjXP3",
    "outputId": "44c8d775-0425-4f70-a973-6082c6ce4e47"
   },
   "outputs": [],
   "source": [
    "# Select only numeric columns\n",
    "numeric_columns = data.select_dtypes(include='number')\n",
    "\n",
    "numeric_data = data[['Weather_Condition']].join(numeric_columns)\n",
    "\n",
    "mean_values = numeric_data.groupby('Weather_Condition').mean()\n",
    "mean_values"
   ]
  },
  {
   "cell_type": "markdown",
   "metadata": {
    "id": "f3uVIfF_cOaB"
   },
   "source": [
    "## 8. Find all instances where the weather is clear and the relative humidity is greater than 50, or visibility is above 40.\n"
   ]
  },
  {
   "cell_type": "code",
   "execution_count": null,
   "metadata": {
    "colab": {
     "base_uri": "https://localhost:8080/",
     "height": 424
    },
    "id": "Z6UuQFoqWvFo",
    "outputId": "a353c99e-5385-4de1-a0a1-5ef8138e8d25"
   },
   "outputs": [],
   "source": [
    "weather_condition = data[(data['Weather_Condition'] == 'Clear') & ((data['Rel Hum_%'] > 50) | (data['Visibility_km'] > 40))]\n",
    "weather_condition"
   ]
  },
  {
   "cell_type": "markdown",
   "metadata": {
    "id": "EjCgd66lcOcz"
   },
   "source": [
    "## 9. Find the number of weather conditions that include snow.\n"
   ]
  },
  {
   "cell_type": "code",
   "execution_count": null,
   "metadata": {
    "colab": {
     "base_uri": "https://localhost:8080/"
    },
    "id": "nfaJT3McXYNb",
    "outputId": "db03dcf8-24ea-45f0-9168-bf408c6ae951"
   },
   "outputs": [],
   "source": [
    "snow_weather = data[data['Weather_Condition'] == 'Snow'].shape[0]\n",
    "snow_weather"
   ]
  },
  {
   "cell_type": "markdown",
   "metadata": {
    "id": "-YJ_NhOjcOjf"
   },
   "source": [
    "# **Part 2: Move this CSV into a database of your choice and use SQL to answer 4 of the questions above.**\n"
   ]
  },
  {
   "cell_type": "code",
   "execution_count": null,
   "metadata": {
    "colab": {
     "base_uri": "https://localhost:8080/",
     "height": 384
    },
    "id": "1HuVQ0vdq2TY",
    "outputId": "3e800ca5-193d-4997-84f4-f5745bb02143"
   },
   "outputs": [],
   "source": [
    "import psycopg2\n",
    "\n",
    "conn = psycopg2.connect(\n",
    "    dbname='weather_data',\n",
    "    user='becca',\n",
    "    password='2112',\n",
    "    host='localhost',\n",
    "    port='5432'\n",
    ")\n",
    "cursor = conn.cursor()\n"
   ]
  }
 ],
 "metadata": {
  "colab": {
   "provenance": []
  },
  "kernelspec": {
   "display_name": "Python 3",
   "language": "python",
   "name": "python3"
  },
  "language_info": {
   "codemirror_mode": {
    "name": "ipython",
    "version": 3
   },
   "file_extension": ".py",
   "mimetype": "text/x-python",
   "name": "python",
   "nbconvert_exporter": "python",
   "pygments_lexer": "ipython3",
   "version": "3.7.3"
  }
 },
 "nbformat": 4,
 "nbformat_minor": 1
}
